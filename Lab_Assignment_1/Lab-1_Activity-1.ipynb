{
 "cells": [
  {
   "cell_type": "markdown",
   "id": "sized-conversation",
   "metadata": {},
   "source": [
    "### Author: Tejaswini Patil\n",
    "#### Reg No: 20MAI0044\n",
    "#### Deep Learning CSE6037-Lab1\n",
    "###### Activity 1 - Implementing Single Layer Perceptron without using builtin function and using self - made dataset"
   ]
  },
  {
   "cell_type": "code",
   "execution_count": 1,
   "id": "immune-bench",
   "metadata": {},
   "outputs": [],
   "source": [
    "# importing necessary libraries\n",
    "import numpy as np\n",
    "import pandas as pd\n",
    "from sklearn.model_selection import train_test_split"
   ]
  },
  {
   "cell_type": "code",
   "execution_count": 2,
   "id": "banner-garage",
   "metadata": {},
   "outputs": [],
   "source": [
    "data = np.array([[1,30,15,1],\n",
    "                [0.5,40,20,0],\n",
    "                [0.75,36,12,1],\n",
    "                [0.4,32,18,0],\n",
    "                [0.8,34,16,1],\n",
    "                [1,36,18,0],\n",
    "                [0.9,34,19,0],\n",
    "                [0.5,28,14,1],\n",
    "                [0.7,30,16,0],\n",
    "                [0.35,37,11,0],\n",
    "                [0.55,20,12,0],\n",
    "                [0.86,38,18,0],\n",
    "                [0.33,30,15,1],\n",
    "                [0.9,36,13,0],\n",
    "                [0.78,34,14,1],\n",
    "                [0.29,30,18,1],\n",
    "                [0.65,32,20,0],\n",
    "                [0.78,36,18,1],\n",
    "                [0.20,32,26,0],\n",
    "                [0.15,34,15,0]])"
   ]
  },
  {
   "cell_type": "code",
   "execution_count": 3,
   "id": "oriented-estate",
   "metadata": {},
   "outputs": [],
   "source": [
    "df = pd.DataFrame(data, columns = ['color','size','area','Y'])"
   ]
  },
  {
   "cell_type": "code",
   "execution_count": 4,
   "id": "juvenile-product",
   "metadata": {},
   "outputs": [],
   "source": [
    "X = df.drop('Y',axis=1)\n",
    "Y = df['Y']"
   ]
  },
  {
   "cell_type": "markdown",
   "id": "laughing-crime",
   "metadata": {},
   "source": [
    "### Here we have used built-in function only for splitting the data and not for training so as to make separating data easier where we will be testing the model for different sizes of training and testing.\n",
    "If we have to make the splitting we can carry out the same manually assigning each array for x_train,x_test,y_train,y_test individually\n",
    "\n",
    "And here our goal is to implement perceptron on our own"
   ]
  },
  {
   "cell_type": "code",
   "execution_count": 5,
   "id": "revised-hardware",
   "metadata": {},
   "outputs": [],
   "source": [
    "# Lets carry out the training and testing split up\n",
    "X_train, X_test, Y_train, Y_test = train_test_split(X,Y,test_size=0.1, stratify=Y, random_state=3)"
   ]
  },
  {
   "cell_type": "code",
   "execution_count": 6,
   "id": "narrow-anniversary",
   "metadata": {},
   "outputs": [
    {
     "name": "stdout",
     "output_type": "stream",
     "text": [
      "(18, 3) (2, 3) (18,) (2,)\n",
      "<class 'pandas.core.frame.DataFrame'>\n"
     ]
    }
   ],
   "source": [
    "print(X_train.shape,X_test.shape,Y_train.shape,Y_test.shape)\n",
    "print(type(X_train))"
   ]
  },
  {
   "cell_type": "code",
   "execution_count": 7,
   "id": "enclosed-evans",
   "metadata": {},
   "outputs": [
    {
     "data": {
      "text/plain": [
       "numpy.ndarray"
      ]
     },
     "execution_count": 7,
     "metadata": {},
     "output_type": "execute_result"
    }
   ],
   "source": [
    "# Convert the data frame into numpy for further training and \n",
    "# testing of simple ML model\n",
    "X_train = X_train.values\n",
    "X_test = X_test.values\n",
    "type(X_train)"
   ]
  },
  {
   "cell_type": "code",
   "execution_count": 8,
   "id": "demonstrated-shore",
   "metadata": {},
   "outputs": [],
   "source": [
    "class Perceptron(object):\n",
    "\n",
    "    def __init__(self, no_of_inputs, epochs=75, learning_rate=0.02):\n",
    "        self.epochs = epochs \n",
    "        self.learning_rate = learning_rate\n",
    "        self.weights = np.zeros(no_of_inputs + 1)\n",
    "           \n",
    "    def predict(self, inputs):\n",
    "        summation = np.dot(inputs, self.weights[1:]) + self.weights[0]\n",
    "        if summation > 0:\n",
    "            activation = 1\n",
    "        else:\n",
    "            activation = 0            \n",
    "        return activation\n",
    "\n",
    "    def train(self, training_inputs, labels):\n",
    "        accurate_rows=0\n",
    "        i=0\n",
    "        for epoch in range(self.epochs):\n",
    "            for inputs, label in zip(training_inputs, labels):\n",
    "                prediction = self.predict(inputs)\n",
    "                self.weights[1:] += self.learning_rate * (label - prediction) * inputs\n",
    "                self.weights[0] += self.learning_rate * (label - prediction)\n",
    "                if(label==prediction):\n",
    "                    accurate_rows+=1\n",
    "                i+=1\n",
    "        print(accurate_rows/i)"
   ]
  },
  {
   "cell_type": "code",
   "execution_count": 9,
   "id": "thorough-jenny",
   "metadata": {},
   "outputs": [
    {
     "name": "stdout",
     "output_type": "stream",
     "text": [
      "Training:\n",
      "0.5681481481481482\n",
      "Testing:\n",
      "[ 0.2 32.  26. ] predicted =  1 actual =  0.0\n",
      "[ 0.8 34.  16. ] predicted =  1 actual =  1.0\n",
      "Accuracy =  0.5\n"
     ]
    }
   ],
   "source": [
    "print(\"Training:\")\n",
    "perceptron = Perceptron(X_train.shape[1])\n",
    "perceptron.train(X_train, Y_train)\n",
    "\n",
    "print(\"Testing:\")\n",
    "i=0\n",
    "for inputs,label in zip(X_test,Y_test):\n",
    "    prediction = perceptron.predict(inputs)\n",
    "    print(inputs,\"predicted = \",prediction,\"actual = \",label)\n",
    "    if prediction==label:\n",
    "        i+=1\n",
    "print(\"Accuracy = \",i/X_test.shape[0])"
   ]
  },
  {
   "cell_type": "code",
   "execution_count": 10,
   "id": "hydraulic-knitting",
   "metadata": {},
   "outputs": [
    {
     "name": "stdout",
     "output_type": "stream",
     "text": [
      "(16, 3) (4, 3) (16,) (4,)\n",
      "<class 'pandas.core.frame.DataFrame'>\n",
      "Training:\n",
      "0.26916666666666667\n",
      "Testing:\n",
      "[ 0.9 36.  13. ] predicted =  0 actual =  0.0\n",
      "[ 0.8 34.  16. ] predicted =  0 actual =  1.0\n",
      "[ 0.2 32.  26. ] predicted =  1 actual =  0.0\n",
      "[ 0.78 34.   14.  ] predicted =  0 actual =  1.0\n",
      "Accuracy =  0.25\n"
     ]
    }
   ],
   "source": [
    "X_train, X_test, Y_train, Y_test = train_test_split(X,Y,test_size=0.2, stratify=Y, random_state=3)\n",
    "print(X_train.shape,X_test.shape,Y_train.shape,Y_test.shape)\n",
    "print(type(X_train))\n",
    "# Convert the data frame into numpy for further training and \n",
    "# testing of simple ML model\n",
    "X_train = X_train.values\n",
    "X_test = X_test.values\n",
    "type(X_train)\n",
    "print(\"Training:\")\n",
    "perceptron = Perceptron(X_train.shape[1])\n",
    "perceptron.train(X_train, Y_train)\n",
    "\n",
    "print(\"Testing:\")\n",
    "i=0\n",
    "for inputs,label in zip(X_test,Y_test):\n",
    "    prediction = perceptron.predict(inputs)\n",
    "    print(inputs,\"predicted = \",prediction,\"actual = \",label)\n",
    "    if prediction==label:\n",
    "        i+=1\n",
    "print(\"Accuracy = \",i/X_test.shape[0])"
   ]
  },
  {
   "cell_type": "code",
   "execution_count": 11,
   "id": "structural-strike",
   "metadata": {},
   "outputs": [
    {
     "name": "stdout",
     "output_type": "stream",
     "text": [
      "(14, 3) (6, 3) (14,) (6,)\n",
      "<class 'pandas.core.frame.DataFrame'>\n",
      "Training:\n",
      "0.42857142857142855\n",
      "Testing:\n",
      "[ 0.2 32.  26. ] predicted =  1 actual =  0.0\n",
      "[ 0.8 34.  16. ] predicted =  1 actual =  1.0\n",
      "[ 0.78 34.   14.  ] predicted =  1 actual =  1.0\n",
      "[ 0.9 34.  19. ] predicted =  1 actual =  0.0\n",
      "[ 0.9 36.  13. ] predicted =  1 actual =  0.0\n",
      "[ 0.65 32.   20.  ] predicted =  1 actual =  0.0\n",
      "Accuracy =  0.3333333333333333\n"
     ]
    }
   ],
   "source": [
    "X_train, X_test, Y_train, Y_test = train_test_split(X,Y,test_size=0.3, stratify=Y, random_state=3)\n",
    "print(X_train.shape,X_test.shape,Y_train.shape,Y_test.shape)\n",
    "print(type(X_train))\n",
    "# Convert the data frame into numpy for further training and \n",
    "# testing of simple ML model\n",
    "X_train = X_train.values\n",
    "X_test = X_test.values\n",
    "type(X_train)\n",
    "print(\"Training:\")\n",
    "perceptron = Perceptron(X_train.shape[1])\n",
    "perceptron.train(X_train, Y_train)\n",
    "\n",
    "print(\"Testing:\")\n",
    "i=0\n",
    "for inputs,label in zip(X_test,Y_test):\n",
    "    prediction = perceptron.predict(inputs)\n",
    "    print(inputs,\"predicted = \",prediction,\"actual = \",label)\n",
    "    if prediction==label:\n",
    "        i+=1\n",
    "print(\"Accuracy = \",i/X_test.shape[0])"
   ]
  },
  {
   "cell_type": "code",
   "execution_count": 12,
   "id": "oriented-emerald",
   "metadata": {},
   "outputs": [
    {
     "name": "stdout",
     "output_type": "stream",
     "text": [
      "(12, 3) (8, 3) (12,) (8,)\n",
      "<class 'pandas.core.frame.DataFrame'>\n",
      "Training:\n",
      "0.33444444444444443\n",
      "Testing:\n",
      "[ 0.9 36.  13. ] predicted =  0 actual =  0.0\n",
      "[ 1. 30. 15.] predicted =  1 actual =  1.0\n",
      "[ 0.2 32.  26. ] predicted =  1 actual =  0.0\n",
      "[ 0.8 34.  16. ] predicted =  0 actual =  1.0\n",
      "[ 0.65 32.   20.  ] predicted =  1 actual =  0.0\n",
      "[ 0.9 34.  19. ] predicted =  1 actual =  0.0\n",
      "[ 0.78 34.   14.  ] predicted =  0 actual =  1.0\n",
      "[ 0.5 40.  20. ] predicted =  1 actual =  0.0\n",
      "Accuracy =  0.25\n"
     ]
    }
   ],
   "source": [
    "X_train, X_test, Y_train, Y_test = train_test_split(X,Y,test_size=0.4, stratify=Y, random_state=3)\n",
    "print(X_train.shape,X_test.shape,Y_train.shape,Y_test.shape)\n",
    "print(type(X_train))\n",
    "# Convert the data frame into numpy for further training and \n",
    "# testing of simple ML model\n",
    "X_train = X_train.values\n",
    "X_test = X_test.values\n",
    "type(X_train)\n",
    "print(\"Training:\")\n",
    "perceptron = Perceptron(X_train.shape[1])\n",
    "perceptron.train(X_train, Y_train)\n",
    "\n",
    "print(\"Testing:\")\n",
    "i=0\n",
    "for inputs,label in zip(X_test,Y_test):\n",
    "    prediction = perceptron.predict(inputs)\n",
    "    print(inputs,\"predicted = \",prediction,\"actual = \",label)\n",
    "    if prediction==label:\n",
    "        i+=1\n",
    "print(\"Accuracy = \",i/X_test.shape[0])"
   ]
  },
  {
   "cell_type": "code",
   "execution_count": 13,
   "id": "democratic-story",
   "metadata": {},
   "outputs": [
    {
     "name": "stdout",
     "output_type": "stream",
     "text": [
      "(10, 3) (10, 3) (10,) (10,)\n",
      "<class 'pandas.core.frame.DataFrame'>\n",
      "Training:\n",
      "0.42133333333333334\n",
      "Testing:\n",
      "[ 0.8 34.  16. ] predicted =  1 actual =  1.0\n",
      "[ 0.78 34.   14.  ] predicted =  0 actual =  1.0\n",
      "[ 0.9 36.  13. ] predicted =  0 actual =  0.0\n",
      "[ 1. 30. 15.] predicted =  1 actual =  1.0\n",
      "[ 0.9 34.  19. ] predicted =  1 actual =  0.0\n",
      "[ 0.5 40.  20. ] predicted =  1 actual =  0.0\n",
      "[ 0.33 30.   15.  ] predicted =  1 actual =  1.0\n",
      "[ 0.86 38.   18.  ] predicted =  1 actual =  0.0\n",
      "[ 0.2 32.  26. ] predicted =  1 actual =  0.0\n",
      "[ 0.65 32.   20.  ] predicted =  1 actual =  0.0\n",
      "Accuracy =  0.4\n"
     ]
    }
   ],
   "source": [
    "X_train, X_test, Y_train, Y_test = train_test_split(X,Y,test_size=0.5, stratify=Y, random_state=3)\n",
    "print(X_train.shape,X_test.shape,Y_train.shape,Y_test.shape)\n",
    "print(type(X_train))\n",
    "# Convert the data frame into numpy for further training and \n",
    "# testing of simple ML model\n",
    "X_train = X_train.values\n",
    "X_test = X_test.values\n",
    "type(X_train)\n",
    "print(\"Training:\")\n",
    "perceptron = Perceptron(X_train.shape[1])\n",
    "perceptron.train(X_train, Y_train)\n",
    "\n",
    "print(\"Testing:\")\n",
    "i=0\n",
    "for inputs,label in zip(X_test,Y_test):\n",
    "    prediction = perceptron.predict(inputs)\n",
    "    print(inputs,\"predicted = \",prediction,\"actual = \",label)\n",
    "    if prediction==label:\n",
    "        i+=1\n",
    "print(\"Accuracy = \",i/X_test.shape[0])"
   ]
  },
  {
   "cell_type": "code",
   "execution_count": 14,
   "id": "sustainable-wallpaper",
   "metadata": {},
   "outputs": [],
   "source": [
    "# Here Accuracy for different sizes of training and testing is:\n",
    "# Training  Testing   Testing_Accuracy   Training_Accuracy\n",
    "#   90%       10%       0.5                     0.5681\n",
    "#   80%       20%       0.25                    0.2691\n",
    "#   70%       30%       0.33333                 0.4283\n",
    "#   60%       40%       0.25                    0.3344\n",
    "#   50%       50%       0.4                     0.4213"
   ]
  },
  {
   "cell_type": "code",
   "execution_count": null,
   "id": "armed-silence",
   "metadata": {},
   "outputs": [],
   "source": []
  },
  {
   "cell_type": "code",
   "execution_count": null,
   "id": "approved-development",
   "metadata": {},
   "outputs": [],
   "source": []
  },
  {
   "cell_type": "code",
   "execution_count": null,
   "id": "secondary-advancement",
   "metadata": {},
   "outputs": [],
   "source": []
  },
  {
   "cell_type": "code",
   "execution_count": null,
   "id": "uniform-sequence",
   "metadata": {},
   "outputs": [],
   "source": []
  },
  {
   "cell_type": "code",
   "execution_count": null,
   "id": "mounted-disposition",
   "metadata": {},
   "outputs": [],
   "source": []
  }
 ],
 "metadata": {
  "kernelspec": {
   "display_name": "Python 3",
   "language": "python",
   "name": "python3"
  },
  "language_info": {
   "codemirror_mode": {
    "name": "ipython",
    "version": 3
   },
   "file_extension": ".py",
   "mimetype": "text/x-python",
   "name": "python",
   "nbconvert_exporter": "python",
   "pygments_lexer": "ipython3",
   "version": "3.6.6"
  }
 },
 "nbformat": 4,
 "nbformat_minor": 5
}
