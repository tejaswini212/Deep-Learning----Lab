{
 "cells": [
  {
   "cell_type": "markdown",
   "id": "minimal-tract",
   "metadata": {},
   "source": [
    "### Author: Tejaswini Patil\n",
    "#### Reg No: 20MAI0044\n",
    "#### Deep Learning CSE6037-Lab1\n",
    "###### Activity 2 - Implementing Perceptron on online available dataset"
   ]
  },
  {
   "cell_type": "code",
   "execution_count": 1,
   "id": "immune-bench",
   "metadata": {},
   "outputs": [],
   "source": [
    "# importing necessary libraries\n",
    "import numpy as np\n",
    "import pandas as pd\n",
    "import matplotlib.pyplot as plt\n",
    "from sklearn.linear_model import Perceptron\n",
    "from sklearn.model_selection import train_test_split\n",
    "from sklearn.preprocessing import StandardScaler\n",
    "from sklearn.metrics import accuracy_score"
   ]
  },
  {
   "cell_type": "code",
   "execution_count": 2,
   "id": "equipped-guest",
   "metadata": {},
   "outputs": [],
   "source": [
    "df = pd.read_csv('car.csv')"
   ]
  },
  {
   "cell_type": "code",
   "execution_count": 3,
   "id": "affected-mayor",
   "metadata": {},
   "outputs": [
    {
     "data": {
      "text/html": [
       "<div>\n",
       "<style scoped>\n",
       "    .dataframe tbody tr th:only-of-type {\n",
       "        vertical-align: middle;\n",
       "    }\n",
       "\n",
       "    .dataframe tbody tr th {\n",
       "        vertical-align: top;\n",
       "    }\n",
       "\n",
       "    .dataframe thead th {\n",
       "        text-align: right;\n",
       "    }\n",
       "</style>\n",
       "<table border=\"1\" class=\"dataframe\">\n",
       "  <thead>\n",
       "    <tr style=\"text-align: right;\">\n",
       "      <th></th>\n",
       "      <th>Buying</th>\n",
       "      <th>Maintainance</th>\n",
       "      <th>Doors</th>\n",
       "      <th>Persons</th>\n",
       "      <th>Lug_boot</th>\n",
       "      <th>Safety</th>\n",
       "      <th>Rating</th>\n",
       "    </tr>\n",
       "  </thead>\n",
       "  <tbody>\n",
       "    <tr>\n",
       "      <th>0</th>\n",
       "      <td>vhigh</td>\n",
       "      <td>vhigh</td>\n",
       "      <td>2</td>\n",
       "      <td>2</td>\n",
       "      <td>small</td>\n",
       "      <td>low</td>\n",
       "      <td>unacc</td>\n",
       "    </tr>\n",
       "    <tr>\n",
       "      <th>1</th>\n",
       "      <td>vhigh</td>\n",
       "      <td>vhigh</td>\n",
       "      <td>2</td>\n",
       "      <td>2</td>\n",
       "      <td>small</td>\n",
       "      <td>med</td>\n",
       "      <td>unacc</td>\n",
       "    </tr>\n",
       "    <tr>\n",
       "      <th>2</th>\n",
       "      <td>vhigh</td>\n",
       "      <td>vhigh</td>\n",
       "      <td>2</td>\n",
       "      <td>2</td>\n",
       "      <td>small</td>\n",
       "      <td>high</td>\n",
       "      <td>unacc</td>\n",
       "    </tr>\n",
       "    <tr>\n",
       "      <th>3</th>\n",
       "      <td>vhigh</td>\n",
       "      <td>vhigh</td>\n",
       "      <td>2</td>\n",
       "      <td>2</td>\n",
       "      <td>med</td>\n",
       "      <td>low</td>\n",
       "      <td>unacc</td>\n",
       "    </tr>\n",
       "    <tr>\n",
       "      <th>4</th>\n",
       "      <td>vhigh</td>\n",
       "      <td>vhigh</td>\n",
       "      <td>2</td>\n",
       "      <td>2</td>\n",
       "      <td>med</td>\n",
       "      <td>med</td>\n",
       "      <td>unacc</td>\n",
       "    </tr>\n",
       "  </tbody>\n",
       "</table>\n",
       "</div>"
      ],
      "text/plain": [
       "  Buying Maintainance  Doors  Persons Lug_boot Safety Rating\n",
       "0  vhigh        vhigh      2        2    small    low  unacc\n",
       "1  vhigh        vhigh      2        2    small    med  unacc\n",
       "2  vhigh        vhigh      2        2    small   high  unacc\n",
       "3  vhigh        vhigh      2        2      med    low  unacc\n",
       "4  vhigh        vhigh      2        2      med    med  unacc"
      ]
     },
     "execution_count": 3,
     "metadata": {},
     "output_type": "execute_result"
    }
   ],
   "source": [
    "df.head()"
   ]
  },
  {
   "cell_type": "code",
   "execution_count": 4,
   "id": "hungarian-reading",
   "metadata": {},
   "outputs": [
    {
     "data": {
      "text/plain": [
       "(1728, 7)"
      ]
     },
     "execution_count": 4,
     "metadata": {},
     "output_type": "execute_result"
    }
   ],
   "source": [
    "df.shape"
   ]
  },
  {
   "cell_type": "code",
   "execution_count": 5,
   "id": "thrown-greensboro",
   "metadata": {},
   "outputs": [
    {
     "data": {
      "text/html": [
       "<div>\n",
       "<style scoped>\n",
       "    .dataframe tbody tr th:only-of-type {\n",
       "        vertical-align: middle;\n",
       "    }\n",
       "\n",
       "    .dataframe tbody tr th {\n",
       "        vertical-align: top;\n",
       "    }\n",
       "\n",
       "    .dataframe thead th {\n",
       "        text-align: right;\n",
       "    }\n",
       "</style>\n",
       "<table border=\"1\" class=\"dataframe\">\n",
       "  <thead>\n",
       "    <tr style=\"text-align: right;\">\n",
       "      <th></th>\n",
       "      <th>Buying</th>\n",
       "      <th>Maintainance</th>\n",
       "      <th>Doors</th>\n",
       "      <th>Persons</th>\n",
       "      <th>Lug_boot</th>\n",
       "      <th>Safety</th>\n",
       "      <th>Rating</th>\n",
       "    </tr>\n",
       "  </thead>\n",
       "  <tbody>\n",
       "    <tr>\n",
       "      <th>1723</th>\n",
       "      <td>low</td>\n",
       "      <td>low</td>\n",
       "      <td>6</td>\n",
       "      <td>6</td>\n",
       "      <td>med</td>\n",
       "      <td>med</td>\n",
       "      <td>good</td>\n",
       "    </tr>\n",
       "    <tr>\n",
       "      <th>1724</th>\n",
       "      <td>low</td>\n",
       "      <td>low</td>\n",
       "      <td>6</td>\n",
       "      <td>6</td>\n",
       "      <td>med</td>\n",
       "      <td>high</td>\n",
       "      <td>vgood</td>\n",
       "    </tr>\n",
       "    <tr>\n",
       "      <th>1725</th>\n",
       "      <td>low</td>\n",
       "      <td>low</td>\n",
       "      <td>6</td>\n",
       "      <td>6</td>\n",
       "      <td>big</td>\n",
       "      <td>low</td>\n",
       "      <td>unacc</td>\n",
       "    </tr>\n",
       "    <tr>\n",
       "      <th>1726</th>\n",
       "      <td>low</td>\n",
       "      <td>low</td>\n",
       "      <td>6</td>\n",
       "      <td>6</td>\n",
       "      <td>big</td>\n",
       "      <td>med</td>\n",
       "      <td>good</td>\n",
       "    </tr>\n",
       "    <tr>\n",
       "      <th>1727</th>\n",
       "      <td>low</td>\n",
       "      <td>low</td>\n",
       "      <td>6</td>\n",
       "      <td>6</td>\n",
       "      <td>big</td>\n",
       "      <td>high</td>\n",
       "      <td>vgood</td>\n",
       "    </tr>\n",
       "  </tbody>\n",
       "</table>\n",
       "</div>"
      ],
      "text/plain": [
       "     Buying Maintainance  Doors  Persons Lug_boot Safety Rating\n",
       "1723    low          low      6        6      med    med   good\n",
       "1724    low          low      6        6      med   high  vgood\n",
       "1725    low          low      6        6      big    low  unacc\n",
       "1726    low          low      6        6      big    med   good\n",
       "1727    low          low      6        6      big   high  vgood"
      ]
     },
     "execution_count": 5,
     "metadata": {},
     "output_type": "execute_result"
    }
   ],
   "source": [
    "df.tail()"
   ]
  },
  {
   "cell_type": "code",
   "execution_count": 6,
   "id": "refined-craps",
   "metadata": {},
   "outputs": [],
   "source": [
    "df['Buying'] = df['Buying'].map({'low':0,'med':1,'high':2,'vhigh':3})\n",
    "df['Maintainance'] = df['Maintainance'].map({'low':0,'med':1,'high':2,'vhigh':3})\n",
    "df['Lug_boot'] = df['Lug_boot'].map({'small':0,'med':1,'big':2})\n",
    "df['Safety'] = df['Safety'].map({'low':0,'med':1,'high':2})\n",
    "df['Rating'] = df['Rating'].map({'unacc':0,'acc':1,'good':2,'vgood':3})"
   ]
  },
  {
   "cell_type": "code",
   "execution_count": 7,
   "id": "liable-dominican",
   "metadata": {},
   "outputs": [
    {
     "data": {
      "text/html": [
       "<div>\n",
       "<style scoped>\n",
       "    .dataframe tbody tr th:only-of-type {\n",
       "        vertical-align: middle;\n",
       "    }\n",
       "\n",
       "    .dataframe tbody tr th {\n",
       "        vertical-align: top;\n",
       "    }\n",
       "\n",
       "    .dataframe thead th {\n",
       "        text-align: right;\n",
       "    }\n",
       "</style>\n",
       "<table border=\"1\" class=\"dataframe\">\n",
       "  <thead>\n",
       "    <tr style=\"text-align: right;\">\n",
       "      <th></th>\n",
       "      <th>Buying</th>\n",
       "      <th>Maintainance</th>\n",
       "      <th>Doors</th>\n",
       "      <th>Persons</th>\n",
       "      <th>Lug_boot</th>\n",
       "      <th>Safety</th>\n",
       "      <th>Rating</th>\n",
       "    </tr>\n",
       "  </thead>\n",
       "  <tbody>\n",
       "    <tr>\n",
       "      <th>0</th>\n",
       "      <td>3</td>\n",
       "      <td>3</td>\n",
       "      <td>2</td>\n",
       "      <td>2</td>\n",
       "      <td>0</td>\n",
       "      <td>0</td>\n",
       "      <td>0</td>\n",
       "    </tr>\n",
       "    <tr>\n",
       "      <th>1</th>\n",
       "      <td>3</td>\n",
       "      <td>3</td>\n",
       "      <td>2</td>\n",
       "      <td>2</td>\n",
       "      <td>0</td>\n",
       "      <td>1</td>\n",
       "      <td>0</td>\n",
       "    </tr>\n",
       "    <tr>\n",
       "      <th>2</th>\n",
       "      <td>3</td>\n",
       "      <td>3</td>\n",
       "      <td>2</td>\n",
       "      <td>2</td>\n",
       "      <td>0</td>\n",
       "      <td>2</td>\n",
       "      <td>0</td>\n",
       "    </tr>\n",
       "    <tr>\n",
       "      <th>3</th>\n",
       "      <td>3</td>\n",
       "      <td>3</td>\n",
       "      <td>2</td>\n",
       "      <td>2</td>\n",
       "      <td>1</td>\n",
       "      <td>0</td>\n",
       "      <td>0</td>\n",
       "    </tr>\n",
       "    <tr>\n",
       "      <th>4</th>\n",
       "      <td>3</td>\n",
       "      <td>3</td>\n",
       "      <td>2</td>\n",
       "      <td>2</td>\n",
       "      <td>1</td>\n",
       "      <td>1</td>\n",
       "      <td>0</td>\n",
       "    </tr>\n",
       "    <tr>\n",
       "      <th>...</th>\n",
       "      <td>...</td>\n",
       "      <td>...</td>\n",
       "      <td>...</td>\n",
       "      <td>...</td>\n",
       "      <td>...</td>\n",
       "      <td>...</td>\n",
       "      <td>...</td>\n",
       "    </tr>\n",
       "    <tr>\n",
       "      <th>1723</th>\n",
       "      <td>0</td>\n",
       "      <td>0</td>\n",
       "      <td>6</td>\n",
       "      <td>6</td>\n",
       "      <td>1</td>\n",
       "      <td>1</td>\n",
       "      <td>2</td>\n",
       "    </tr>\n",
       "    <tr>\n",
       "      <th>1724</th>\n",
       "      <td>0</td>\n",
       "      <td>0</td>\n",
       "      <td>6</td>\n",
       "      <td>6</td>\n",
       "      <td>1</td>\n",
       "      <td>2</td>\n",
       "      <td>3</td>\n",
       "    </tr>\n",
       "    <tr>\n",
       "      <th>1725</th>\n",
       "      <td>0</td>\n",
       "      <td>0</td>\n",
       "      <td>6</td>\n",
       "      <td>6</td>\n",
       "      <td>2</td>\n",
       "      <td>0</td>\n",
       "      <td>0</td>\n",
       "    </tr>\n",
       "    <tr>\n",
       "      <th>1726</th>\n",
       "      <td>0</td>\n",
       "      <td>0</td>\n",
       "      <td>6</td>\n",
       "      <td>6</td>\n",
       "      <td>2</td>\n",
       "      <td>1</td>\n",
       "      <td>2</td>\n",
       "    </tr>\n",
       "    <tr>\n",
       "      <th>1727</th>\n",
       "      <td>0</td>\n",
       "      <td>0</td>\n",
       "      <td>6</td>\n",
       "      <td>6</td>\n",
       "      <td>2</td>\n",
       "      <td>2</td>\n",
       "      <td>3</td>\n",
       "    </tr>\n",
       "  </tbody>\n",
       "</table>\n",
       "<p>1728 rows × 7 columns</p>\n",
       "</div>"
      ],
      "text/plain": [
       "      Buying  Maintainance  Doors  Persons  Lug_boot  Safety  Rating\n",
       "0          3             3      2        2         0       0       0\n",
       "1          3             3      2        2         0       1       0\n",
       "2          3             3      2        2         0       2       0\n",
       "3          3             3      2        2         1       0       0\n",
       "4          3             3      2        2         1       1       0\n",
       "...      ...           ...    ...      ...       ...     ...     ...\n",
       "1723       0             0      6        6         1       1       2\n",
       "1724       0             0      6        6         1       2       3\n",
       "1725       0             0      6        6         2       0       0\n",
       "1726       0             0      6        6         2       1       2\n",
       "1727       0             0      6        6         2       2       3\n",
       "\n",
       "[1728 rows x 7 columns]"
      ]
     },
     "execution_count": 7,
     "metadata": {},
     "output_type": "execute_result"
    }
   ],
   "source": [
    "df"
   ]
  },
  {
   "cell_type": "code",
   "execution_count": 8,
   "id": "juvenile-product",
   "metadata": {},
   "outputs": [],
   "source": [
    "X = df.drop('Rating',axis=1)\n",
    "Y = df['Rating']"
   ]
  },
  {
   "cell_type": "code",
   "execution_count": 9,
   "id": "wireless-brass",
   "metadata": {},
   "outputs": [
    {
     "data": {
      "text/plain": [
       "(1728, 6)"
      ]
     },
     "execution_count": 9,
     "metadata": {},
     "output_type": "execute_result"
    }
   ],
   "source": [
    "X.shape"
   ]
  },
  {
   "cell_type": "code",
   "execution_count": 10,
   "id": "alike-drinking",
   "metadata": {},
   "outputs": [
    {
     "data": {
      "text/plain": [
       "(1728,)"
      ]
     },
     "execution_count": 10,
     "metadata": {},
     "output_type": "execute_result"
    }
   ],
   "source": [
    "Y.shape"
   ]
  },
  {
   "cell_type": "code",
   "execution_count": 11,
   "id": "revised-hardware",
   "metadata": {},
   "outputs": [],
   "source": [
    "# Lets carry out the training and testing split up\n",
    "X_train1, X_test1, Y_train1, Y_test1 = train_test_split(X,Y,test_size=0.1, random_state=300)"
   ]
  },
  {
   "cell_type": "code",
   "execution_count": 12,
   "id": "narrow-anniversary",
   "metadata": {},
   "outputs": [
    {
     "name": "stdout",
     "output_type": "stream",
     "text": [
      "(1555, 6) (173, 6) (1555,) (173,)\n",
      "<class 'pandas.core.frame.DataFrame'>\n"
     ]
    }
   ],
   "source": [
    "print(X_train1.shape,X_test1.shape,Y_train1.shape,Y_test1.shape)\n",
    "print(type(X_train1))"
   ]
  },
  {
   "cell_type": "code",
   "execution_count": 13,
   "id": "bizarre-belize",
   "metadata": {},
   "outputs": [],
   "source": [
    "sc = StandardScaler()\n",
    "sc.fit(X_train1)\n",
    "\n",
    "# Apply the scaler to the X training data\n",
    "X_train1_std = sc.transform(X_train1)\n",
    "\n",
    "# Apply the SAME scaler to the X test data\n",
    "X_test1_std = sc.transform(X_test1)"
   ]
  },
  {
   "cell_type": "code",
   "execution_count": 14,
   "id": "subtle-review",
   "metadata": {},
   "outputs": [
    {
     "data": {
      "text/plain": [
       "Perceptron(eta0=0.01, max_iter=100, random_state=19)"
      ]
     },
     "execution_count": 14,
     "metadata": {},
     "output_type": "execute_result"
    }
   ],
   "source": [
    "ppn1 = Perceptron(max_iter=100, eta0=0.01, random_state=19)\n",
    "ppn1.fit(X_train1_std, Y_train1)"
   ]
  },
  {
   "cell_type": "code",
   "execution_count": 15,
   "id": "rural-cannon",
   "metadata": {},
   "outputs": [
    {
     "data": {
      "text/plain": [
       "Perceptron(eta0=0.01, max_iter=100, random_state=19)"
      ]
     },
     "execution_count": 15,
     "metadata": {},
     "output_type": "execute_result"
    }
   ],
   "source": [
    "ppn1.fit(X_train1_std,Y_train1)"
   ]
  },
  {
   "cell_type": "code",
   "execution_count": 16,
   "id": "ideal-refund",
   "metadata": {},
   "outputs": [],
   "source": [
    "y_pred1 = ppn1.predict(X_test1_std)"
   ]
  },
  {
   "cell_type": "code",
   "execution_count": 17,
   "id": "pacific-present",
   "metadata": {},
   "outputs": [
    {
     "data": {
      "text/plain": [
       "array([0, 0, 0, 0, 0, 0, 0, 1, 0, 0, 0, 0, 0, 0, 0, 0, 1, 0, 0, 0, 0, 0,\n",
       "       0, 0, 0, 0, 0, 0, 0, 0, 0, 0, 0, 0, 0, 0, 1, 0, 0, 0, 0, 1, 1, 0,\n",
       "       1, 2, 0, 0, 0, 0, 0, 0, 0, 0, 0, 0, 0, 0, 0, 0, 0, 2, 0, 0, 0, 0,\n",
       "       0, 1, 0, 0, 0, 0, 0, 0, 0, 0, 0, 1, 0, 1, 1, 0, 0, 0, 0, 1, 1, 0,\n",
       "       0, 1, 0, 0, 0, 0, 0, 0, 0, 1, 0, 0, 0, 1, 0, 0, 0, 0, 1, 0, 0, 2,\n",
       "       0, 0, 1, 0, 0, 0, 0, 0, 0, 0, 2, 0, 1, 0, 0, 0, 0, 1, 0, 1, 1, 0,\n",
       "       0, 0, 0, 0, 0, 1, 0, 0, 0, 0, 0, 0, 0, 0, 0, 0, 0, 0, 0, 0, 0, 1,\n",
       "       0, 0, 0, 0, 0, 0, 0, 1, 1, 0, 0, 1, 0, 0, 0, 0, 0, 0, 0],\n",
       "      dtype=int64)"
      ]
     },
     "execution_count": 17,
     "metadata": {},
     "output_type": "execute_result"
    }
   ],
   "source": [
    "y_pred1"
   ]
  },
  {
   "cell_type": "code",
   "execution_count": 18,
   "id": "turkish-uruguay",
   "metadata": {},
   "outputs": [
    {
     "data": {
      "text/plain": [
       "0.7052023121387283"
      ]
     },
     "execution_count": 18,
     "metadata": {},
     "output_type": "execute_result"
    }
   ],
   "source": [
    "ppn1.score(X_test1,Y_test1)"
   ]
  },
  {
   "cell_type": "code",
   "execution_count": 19,
   "id": "personal-latest",
   "metadata": {},
   "outputs": [
    {
     "name": "stdout",
     "output_type": "stream",
     "text": [
      "(1382, 6) (346, 6) (1382,) (346,)\n",
      "[0 1 1 0 1 1 1 1 0 0 1 1 1 0 0 1 0 0 0 0 1 1 0 0 1 0 0 0 0 1 1 1 0 1 0 0 1\n",
      " 0 0 1 0 1 0 0 0 0 1 1 0 1 0 0 0 0 0 0 3 0 1 0 0 1 1 0 1 0 1 0 0 1 1 0 1 0\n",
      " 0 1 0 0 0 0 0 1 0 0 0 0 1 1 0 0 0 0 1 0 1 0 1 0 0 1 0 0 3 0 0 0 0 0 1 1 0\n",
      " 0 1 0 0 0 0 1 0 1 0 0 0 0 1 1 0 0 0 0 0 0 1 0 0 0 0 0 0 0 0 0 0 0 0 0 0 0\n",
      " 1 3 0 1 1 1 0 3 0 1 0 0 0 0 0 0 0 0 0 0 0 0 0 3 0 0 0 0 0 1 0 1 0 0 0 0 0\n",
      " 0 0 0 1 0 0 0 1 0 0 0 0 0 1 1 0 1 0 0 0 0 0 0 0 1 0 0 0 0 0 0 0 0 1 0 0 0\n",
      " 0 0 0 0 1 0 0 0 0 1 0 1 0 0 0 0 0 0 1 0 0 0 0 1 0 1 0 0 0 1 0 0 0 1 1 0 0\n",
      " 0 0 0 0 1 1 0 1 1 1 0 0 0 0 0 1 0 0 1 1 1 0 0 1 0 0 1 0 1 0 0 0 0 1 0 1 0\n",
      " 0 0 0 1 1 0 0 1 0 0 0 3 0 1 1 0 0 0 0 0 0 0 0 0 0 0 0 0 1 0 0 1 0 1 1 1 0\n",
      " 0 0 0 0 0 0 0 1 1 1 1 0 0]\n"
     ]
    },
    {
     "data": {
      "text/plain": [
       "0.4046242774566474"
      ]
     },
     "execution_count": 19,
     "metadata": {},
     "output_type": "execute_result"
    }
   ],
   "source": [
    "X_train2, X_test2, Y_train2, Y_test2 = train_test_split(X,Y,test_size=0.2, random_state=117)\n",
    "print(X_train2.shape,X_test2.shape,Y_train2.shape,Y_test2.shape)\n",
    "#print(type(X_train))\n",
    "sc = StandardScaler()\n",
    "sc.fit(X_train2)\n",
    "X_train2_std = sc.transform(X_train2)\n",
    "X_test2_std = sc.transform(X_test2)\n",
    "ppn2 = Perceptron(max_iter=100, eta0=0.01, random_state=19)\n",
    "ppn2.fit(X_train2_std, Y_train2)\n",
    "y_pred2 = ppn2.predict(X_test2_std)\n",
    "print(y_pred2)\n",
    "ppn2.score(X_test2,Y_test2)"
   ]
  },
  {
   "cell_type": "code",
   "execution_count": 20,
   "id": "decimal-holiday",
   "metadata": {},
   "outputs": [
    {
     "name": "stdout",
     "output_type": "stream",
     "text": [
      "(1209, 6) (519, 6) (1209,) (519,)\n",
      "[0 0 0 0 0 1 1 2 0 0 2 1 1 0 1 1 0 1 0 2 1 0 0 0 1 0 0 0 0 0 1 0 0 1 0 0 0\n",
      " 0 0 1 0 2 1 0 0 0 1 0 0 2 0 1 0 0 0 0 1 0 0 0 0 1 0 0 1 0 0 0 1 1 0 0 1 1\n",
      " 0 1 0 0 0 1 0 1 0 0 0 0 1 2 0 0 0 0 1 0 0 0 0 0 0 2 0 1 2 0 0 1 0 1 0 2 0\n",
      " 0 0 0 0 0 0 2 0 0 0 0 0 1 0 1 0 0 0 0 0 0 0 0 0 0 1 0 0 0 0 0 0 1 0 0 0 0\n",
      " 1 2 3 0 1 1 0 2 0 2 0 1 0 0 1 0 0 0 0 0 0 1 0 1 0 0 0 0 2 1 0 0 0 1 0 0 0\n",
      " 0 0 0 0 1 0 0 2 0 0 0 1 0 1 1 0 2 0 0 0 1 0 0 0 1 0 0 0 0 0 0 0 0 0 0 1 0\n",
      " 1 0 0 0 0 1 0 0 0 1 0 1 0 0 0 1 0 0 1 0 0 0 0 1 0 1 0 1 0 2 0 0 0 1 2 0 0\n",
      " 0 0 0 0 0 0 0 2 1 1 0 0 0 0 0 2 0 1 1 2 1 0 0 1 0 1 1 0 1 1 1 0 0 1 0 1 0\n",
      " 0 0 1 1 1 0 0 1 0 0 0 2 0 0 0 0 1 0 0 0 0 0 0 0 0 1 0 0 1 1 0 0 1 1 0 1 1\n",
      " 0 0 0 0 1 1 1 0 0 1 1 0 0 1 0 0 0 0 0 0 0 0 0 0 0 1 0 0 2 2 1 0 0 0 0 0 1\n",
      " 1 0 1 0 0 1 0 1 0 0 0 0 2 0 0 0 1 0 1 1 1 0 0 1 0 1 1 0 0 0 0 1 0 0 1 0 0\n",
      " 2 2 0 0 0 0 0 1 0 2 0 1 0 0 0 0 1 0 0 0 0 0 1 1 1 0 1 0 0 1 1 0 1 2 0 0 0\n",
      " 0 0 0 2 0 0 0 0 0 2 0 0 0 0 0 0 0 0 0 0 0 0 0 2 1 1 0 1 0 0 1 0 0 0 1 1 0\n",
      " 0 0 0 0 1 0 0 1 0 0 2 1 0 0 2 0 1 1 0 0 0 0 0 0 1 1 0 0 0 2 0 0 0 0 0 0 0\n",
      " 0]\n"
     ]
    },
    {
     "data": {
      "text/plain": [
       "0.24277456647398843"
      ]
     },
     "execution_count": 20,
     "metadata": {},
     "output_type": "execute_result"
    }
   ],
   "source": [
    "X_train3, X_test3, Y_train3, Y_test3 = train_test_split(X,Y,test_size=0.3, random_state=117)\n",
    "print(X_train3.shape,X_test3.shape,Y_train3.shape,Y_test3.shape)\n",
    "#print(type(X_train))\n",
    "sc = StandardScaler()\n",
    "sc.fit(X_train3)\n",
    "X_train3_std = sc.transform(X_train3)\n",
    "X_test3_std = sc.transform(X_test3)\n",
    "ppn3 = Perceptron(max_iter=100, eta0=0.01, random_state=19)\n",
    "ppn3.fit(X_train3_std, Y_train3)\n",
    "y_pred3 = ppn3.predict(X_test3_std)\n",
    "print(y_pred3)\n",
    "ppn3.score(X_test3,Y_test3)"
   ]
  },
  {
   "cell_type": "code",
   "execution_count": 21,
   "id": "magnetic-heart",
   "metadata": {},
   "outputs": [
    {
     "name": "stdout",
     "output_type": "stream",
     "text": [
      "(1036, 6) (692, 6) (1036,) (692,)\n",
      "[0 1 1 0 0 0 0 1 0 0 0 0 0 0 0 0 1 0 0 1 1 0 0 0 0 0 1 0 0 0 1 0 0 0 0 0 0\n",
      " 0 0 0 0 1 0 0 0 0 1 0 0 1 0 0 1 1 0 0 1 0 1 0 0 1 2 0 0 0 2 0 1 0 1 0 0 0\n",
      " 0 2 0 1 0 0 0 0 0 1 1 0 1 2 0 0 0 0 0 0 2 0 1 1 0 1 0 0 1 0 2 0 0 1 0 1 0\n",
      " 1 0 0 1 0 0 2 1 0 0 0 0 1 1 0 0 0 1 0 0 0 0 0 0 0 0 0 0 1 0 0 0 0 0 1 1 0\n",
      " 0 1 1 0 0 1 0 1 0 1 0 1 0 0 1 0 0 1 0 1 0 0 0 0 0 0 0 0 1 0 0 0 0 1 0 0 1\n",
      " 0 0 1 2 1 0 1 2 0 0 1 0 0 2 1 0 1 0 1 1 1 1 0 1 1 0 0 1 0 1 2 0 0 0 0 0 0\n",
      " 1 1 0 1 0 0 0 0 0 2 0 0 0 1 0 1 0 0 0 1 0 0 0 0 0 1 1 1 1 0 0 1 0 0 1 0 0\n",
      " 0 0 0 0 1 0 0 1 0 1 1 0 0 1 0 1 0 0 2 1 0 0 0 1 0 0 3 0 1 0 0 0 0 2 1 0 1\n",
      " 1 0 0 0 0 0 1 0 1 0 0 3 1 2 0 0 0 1 0 1 0 1 0 0 0 0 0 1 1 1 0 1 0 0 2 2 1\n",
      " 0 0 0 0 1 0 0 0 0 0 0 0 0 0 0 0 0 0 0 0 0 0 0 0 0 0 0 0 1 1 0 0 1 1 0 0 0\n",
      " 0 0 0 0 0 1 0 0 0 0 1 0 1 0 0 1 1 0 0 0 1 1 0 0 2 1 1 1 0 0 0 0 1 0 0 0 0\n",
      " 3 1 0 0 0 2 0 0 0 2 0 1 0 1 0 0 1 0 2 0 1 1 0 0 1 0 0 1 0 0 0 0 0 1 0 1 0\n",
      " 0 0 0 1 1 0 0 0 0 1 0 0 0 0 0 0 0 0 0 0 0 1 0 3 0 0 0 0 0 0 0 0 1 0 0 3 0\n",
      " 0 0 0 0 1 0 0 0 0 1 1 0 0 0 1 1 0 1 0 0 0 0 0 1 0 0 1 0 0 1 0 0 1 1 1 0 1\n",
      " 0 0 0 1 0 0 0 0 0 0 0 0 0 0 1 1 0 0 0 0 0 0 1 1 1 1 0 0 0 0 0 1 1 1 0 1 0\n",
      " 2 0 0 2 0 3 0 0 0 0 0 0 1 0 0 0 0 2 0 0 0 1 0 2 0 1 0 1 0 0 1 0 1 0 0 2 0\n",
      " 0 0 0 1 0 0 0 0 1 0 0 0 1 0 3 0 0 0 0 0 0 0 0 1 0 0 0 0 1 0 0 1 0 0 1 0 0\n",
      " 0 1 0 1 0 0 1 0 0 0 2 1 0 1 0 0 1 0 1 0 1 0 0 1 0 0 0 0 1 1 0 1 1 1 0 0 1\n",
      " 0 0 0 0 0 1 1 0 0 0 1 1 0 2 0 0 0 0 0 0 1 1 1 1 1 1]\n"
     ]
    },
    {
     "data": {
      "text/plain": [
       "0.26011560693641617"
      ]
     },
     "execution_count": 21,
     "metadata": {},
     "output_type": "execute_result"
    }
   ],
   "source": [
    "X_train4, X_test4, Y_train4, Y_test4 = train_test_split(X,Y,test_size=0.4, random_state=117)\n",
    "print(X_train4.shape,X_test4.shape,Y_train4.shape,Y_test4.shape)\n",
    "#print(type(X_train))\n",
    "sc = StandardScaler()\n",
    "sc.fit(X_train4)\n",
    "X_train4_std = sc.transform(X_train4)\n",
    "X_test4_std = sc.transform(X_test4)\n",
    "ppn4 = Perceptron(max_iter=100, eta0=0.01, random_state=19)\n",
    "ppn4.fit(X_train4_std, Y_train4)\n",
    "y_pred4 = ppn4.predict(X_test4_std)\n",
    "print(y_pred4)\n",
    "ppn4.score(X_test4,Y_test4)"
   ]
  },
  {
   "cell_type": "code",
   "execution_count": 22,
   "id": "reported-living",
   "metadata": {},
   "outputs": [
    {
     "name": "stdout",
     "output_type": "stream",
     "text": [
      "(864, 6) (864, 6) (864,) (864,)\n",
      "[1 0 1 0 0 3 0 2 0 1 3 0 1 0 1 3 0 1 1 1 1 1 0 0 3 0 0 0 0 0 1 0 1 1 0 0 2\n",
      " 0 1 0 0 1 1 0 0 0 1 0 1 1 0 0 1 0 0 0 1 0 0 0 0 1 0 0 1 0 0 0 1 2 0 0 1 1\n",
      " 0 2 0 1 0 0 0 2 0 1 0 0 1 1 0 0 0 0 2 0 2 0 1 0 0 1 0 1 2 0 0 1 0 1 0 2 0\n",
      " 0 0 0 0 0 0 3 0 0 0 0 0 1 0 0 0 0 0 0 1 0 0 0 0 0 1 0 0 1 0 0 0 1 0 0 0 0\n",
      " 2 3 1 0 1 1 0 1 0 2 0 1 0 0 1 0 0 0 0 1 0 0 0 1 0 0 0 0 1 0 0 0 0 0 0 0 0\n",
      " 0 0 0 0 1 1 1 2 0 0 0 1 0 2 1 0 2 0 1 0 1 1 0 0 1 0 0 0 0 1 0 0 0 0 0 0 0\n",
      " 1 0 0 0 0 0 0 0 1 1 0 1 0 0 0 1 0 0 2 0 0 0 0 0 0 1 0 0 0 1 0 1 0 2 0 0 0\n",
      " 0 0 0 0 0 0 0 1 1 1 0 0 0 0 0 2 0 0 1 2 0 0 0 1 0 1 3 0 1 0 1 0 0 1 0 0 0\n",
      " 2 1 1 0 1 0 1 0 0 0 0 3 0 0 0 0 0 0 0 1 0 0 0 0 0 0 0 0 1 1 0 0 0 2 2 1 1\n",
      " 0 0 0 0 1 1 1 0 0 1 0 0 0 0 1 0 1 0 0 0 0 0 0 0 0 0 0 0 2 1 0 0 2 1 0 0 0\n",
      " 0 0 1 0 0 1 0 2 0 0 0 0 1 1 0 0 1 0 1 0 1 1 0 2 0 1 1 0 0 0 0 1 0 0 1 3 0\n",
      " 3 1 0 0 0 1 0 0 1 2 0 2 0 0 0 0 1 0 0 0 1 1 3 0 1 3 1 0 0 3 1 1 1 1 0 0 0\n",
      " 0 0 0 1 0 0 0 0 0 1 0 0 0 1 0 0 0 0 0 1 0 1 1 3 1 1 0 1 0 1 0 1 0 0 1 3 0\n",
      " 0 0 0 0 1 1 0 0 0 0 1 0 0 0 3 1 0 1 0 0 0 0 0 1 1 3 1 0 0 1 1 0 1 1 1 0 0\n",
      " 0 0 0 1 0 0 0 2 1 0 0 1 2 0 0 1 1 0 0 0 0 0 1 1 0 0 1 1 1 0 0 1 1 1 1 1 0\n",
      " 2 1 0 1 0 1 0 0 0 0 0 0 0 0 0 0 1 2 0 0 0 0 0 1 1 1 0 0 0 1 1 2 1 0 0 2 0\n",
      " 1 0 0 1 0 0 0 0 1 0 0 0 1 0 1 0 0 1 0 0 1 0 0 0 0 2 0 0 1 0 0 1 0 0 1 0 0\n",
      " 0 0 0 1 0 0 0 0 0 1 3 1 0 1 0 0 1 0 0 0 1 0 0 0 0 0 1 1 0 1 1 2 0 2 0 0 0\n",
      " 0 0 3 0 0 1 0 0 0 0 0 0 0 2 0 0 1 1 0 0 2 1 0 0 2 1 1 1 1 0 0 1 1 0 0 0 0\n",
      " 0 0 0 0 0 0 1 1 0 0 0 0 2 0 0 1 3 0 2 0 1 0 0 0 2 0 2 0 0 2 1 0 0 0 1 0 0\n",
      " 0 0 0 1 0 3 0 0 1 0 0 1 0 1 0 0 0 0 0 2 1 0 3 0 1 0 0 1 0 1 0 1 0 1 0 1 0\n",
      " 3 0 0 2 0 0 0 2 1 1 0 0 0 1 0 1 0 0 0 2 0 1 3 0 0 0 1 1 2 0 0 0 0 0 1 0 1\n",
      " 0 0 0 1 0 3 0 1 1 0 0 1 1 1 2 0 1 1 2 0 1 0 0 0 0 0 1 0 1 1 0 1 0 1 0 0 1\n",
      " 0 0 0 1 0 0 0 0 0 0 0 3 0]\n"
     ]
    },
    {
     "data": {
      "text/plain": [
       "0.21643518518518517"
      ]
     },
     "execution_count": 22,
     "metadata": {},
     "output_type": "execute_result"
    }
   ],
   "source": [
    "X_train5, X_test5, Y_train5, Y_test5 = train_test_split(X,Y,test_size=0.5, random_state=117)\n",
    "print(X_train5.shape,X_test5.shape,Y_train5.shape,Y_test5.shape)\n",
    "#print(type(X_train))\n",
    "sc = StandardScaler()\n",
    "sc.fit(X_train5)\n",
    "X_train5_std = sc.transform(X_train5)\n",
    "X_test5_std = sc.transform(X_test5)\n",
    "ppn5 = Perceptron(max_iter=100, eta0=0.01, random_state=19)\n",
    "ppn5.fit(X_train5_std, Y_train5)\n",
    "y_pred5 = ppn5.predict(X_test5_std)\n",
    "print(y_pred5)\n",
    "ppn5.score(X_test5,Y_test5)"
   ]
  },
  {
   "cell_type": "markdown",
   "id": "sorted-sydney",
   "metadata": {},
   "source": [
    "#### Here the accuracy of the model for different training and testing data sizes is:\n",
    "####     Training    Testing    Accuracy\n",
    "####        10%        90%       0.7052\n",
    "####        20%        80%       0.4046\n",
    "####        30%        70%       0.2427\n",
    "####        40%        60%       0.2601\n",
    "####        50%        50%       0.2164"
   ]
  },
  {
   "cell_type": "code",
   "execution_count": 23,
   "id": "absent-hearts",
   "metadata": {},
   "outputs": [],
   "source": [
    "from sklearn.metrics import confusion_matrix\n",
    "from sklearn.metrics import plot_confusion_matrix\n",
    "import seaborn as sn"
   ]
  },
  {
   "cell_type": "code",
   "execution_count": 24,
   "id": "planned-snapshot",
   "metadata": {},
   "outputs": [
    {
     "name": "stdout",
     "output_type": "stream",
     "text": [
      "[[115   7   0   0]\n",
      " [ 25  15   1   0]\n",
      " [  2   2   2   0]\n",
      " [  1   2   1   0]]\n"
     ]
    },
    {
     "data": {
      "text/plain": [
       "<AxesSubplot:>"
      ]
     },
     "execution_count": 24,
     "metadata": {},
     "output_type": "execute_result"
    },
    {
     "data": {
      "image/png": "[encoded data removed]",
      "text/plain": [
       "<Figure size 432x288 with 1 Axes>"
      ]
     },
     "metadata": {
      "needs_background": "light"
     },
     "output_type": "display_data"
    },
    {
     "data": {
      "image/png": "[encoded data removed]",
      "text/plain": [
       "<Figure size 432x288 with 2 Axes>"
      ]
     },
     "metadata": {
      "needs_background": "light"
     },
     "output_type": "display_data"
    }
   ],
   "source": [
    "cm1=confusion_matrix(Y_test1,y_pred1)\n",
    "print(cm1)\n",
    "plt.imshow(cm1, cmap='Blues')\n",
    "df_cm1 = pd.DataFrame(cm1)\n",
    "plt.figure()\n",
    "sn.heatmap(df_cm1,vmin=0, vmax=10, annot=True)"
   ]
  },
  {
   "cell_type": "code",
   "execution_count": 25,
   "id": "legislative-veteran",
   "metadata": {},
   "outputs": [
    {
     "name": "stdout",
     "output_type": "stream",
     "text": [
      "[[207  38   0   0]\n",
      " [ 35  40   0   3]\n",
      " [  0  10   0   0]\n",
      " [  0  10   0   3]]\n"
     ]
    },
    {
     "data": {
      "text/plain": [
       "<AxesSubplot:>"
      ]
     },
     "execution_count": 25,
     "metadata": {},
     "output_type": "execute_result"
    },
    {
     "data": {
      "image/png": "[encoded data removed]",
      "text/plain": [
       "<Figure size 432x288 with 1 Axes>"
      ]
     },
     "metadata": {
      "needs_background": "light"
     },
     "output_type": "display_data"
    },
    {
     "data": {
      "image/png": "[encoded data removed]",
      "text/plain": [
       "<Figure size 432x288 with 2 Axes>"
      ]
     },
     "metadata": {
      "needs_background": "light"
     },
     "output_type": "display_data"
    }
   ],
   "source": [
    "cm2=confusion_matrix(Y_test2,y_pred2)\n",
    "print(cm2)\n",
    "plt.imshow(cm2, cmap='Blues')\n",
    "df_cm2 = pd.DataFrame(cm2)\n",
    "plt.figure()\n",
    "sn.heatmap(df_cm2,vmin=0, vmax=20, annot=True)"
   ]
  },
  {
   "cell_type": "code",
   "execution_count": 26,
   "id": "noticed-pledge",
   "metadata": {},
   "outputs": [
    {
     "name": "stdout",
     "output_type": "stream",
     "text": [
      "[[317  40   5   0]\n",
      " [ 35  79  11   1]\n",
      " [  1   4   9   0]\n",
      " [  0   7  10   0]]\n"
     ]
    },
    {
     "data": {
      "text/plain": [
       "<AxesSubplot:>"
      ]
     },
     "execution_count": 26,
     "metadata": {},
     "output_type": "execute_result"
    },
    {
     "data": {
      "image/png": "[encoded data removed]",
      "text/plain": [
       "<Figure size 432x288 with 1 Axes>"
      ]
     },
     "metadata": {
      "needs_background": "light"
     },
     "output_type": "display_data"
    },
    {
     "data": {
      "image/png": "[encoded data removed]",
      "text/plain": [
       "<Figure size 432x288 with 2 Axes>"
      ]
     },
     "metadata": {
      "needs_background": "light"
     },
     "output_type": "display_data"
    }
   ],
   "source": [
    "cm3=confusion_matrix(Y_test3,y_pred3)\n",
    "print(cm3)\n",
    "plt.imshow(cm3, cmap='Blues')\n",
    "df_cm3 = pd.DataFrame(cm3)\n",
    "plt.figure()\n",
    "sn.heatmap(df_cm3,vmin=0, vmax=30, annot=True)"
   ]
  },
  {
   "cell_type": "code",
   "execution_count": 27,
   "id": "adopted-linux",
   "metadata": {},
   "outputs": [
    {
     "name": "stdout",
     "output_type": "stream",
     "text": [
      "[[372 101  14   0]\n",
      " [ 84  68   3   1]\n",
      " [  3  10  11   0]\n",
      " [  7  12   0   6]]\n"
     ]
    },
    {
     "data": {
      "text/plain": [
       "<AxesSubplot:>"
      ]
     },
     "execution_count": 27,
     "metadata": {},
     "output_type": "execute_result"
    },
    {
     "data": {
      "image/png": "[encoded data removed]",
      "text/plain": [
       "<Figure size 432x288 with 1 Axes>"
      ]
     },
     "metadata": {
      "needs_background": "light"
     },
     "output_type": "display_data"
    },
    {
     "data": {
      "image/png": "[encoded data removed]",
      "text/plain": [
       "<Figure size 432x288 with 2 Axes>"
      ]
     },
     "metadata": {
      "needs_background": "light"
     },
     "output_type": "display_data"
    }
   ],
   "source": [
    "cm4=confusion_matrix(Y_test4,y_pred4)\n",
    "print(cm4)\n",
    "plt.imshow(cm4, cmap='Blues')\n",
    "df_cm4 = pd.DataFrame(cm4)\n",
    "plt.figure()\n",
    "sn.heatmap(df_cm4, vmin=0, vmax=35,annot=True)"
   ]
  },
  {
   "cell_type": "code",
   "execution_count": 28,
   "id": "parliamentary-birmingham",
   "metadata": {},
   "outputs": [
    {
     "name": "stdout",
     "output_type": "stream",
     "text": [
      "[[495  95  14   9]\n",
      " [ 53 115  15   3]\n",
      " [  0  14  16   2]\n",
      " [  0  15   6  12]]\n"
     ]
    },
    {
     "data": {
      "text/plain": [
       "<AxesSubplot:>"
      ]
     },
     "execution_count": 28,
     "metadata": {},
     "output_type": "execute_result"
    },
    {
     "data": {
      "image/png": "[encoded data removed]",
      "text/plain": [
       "<Figure size 432x288 with 1 Axes>"
      ]
     },
     "metadata": {
      "needs_background": "light"
     },
     "output_type": "display_data"
    },
    {
     "data": {
      "image/png": "[encoded data removed]",
      "text/plain": [
       "<Figure size 432x288 with 2 Axes>"
      ]
     },
     "metadata": {
      "needs_background": "light"
     },
     "output_type": "display_data"
    }
   ],
   "source": [
    "cm5=confusion_matrix(Y_test5,y_pred5)\n",
    "print(cm5)\n",
    "plt.imshow(cm5, cmap='Blues')\n",
    "df_cm5 = pd.DataFrame(cm5)\n",
    "plt.figure()\n",
    "sn.heatmap(df_cm5,vmin=0, vmax=50, annot=True)"
   ]
  },
  {
   "cell_type": "code",
   "execution_count": null,
   "id": "beautiful-brave",
   "metadata": {},
   "outputs": [],
   "source": []
  },
  {
   "cell_type": "code",
   "execution_count": null,
   "id": "colonial-illinois",
   "metadata": {},
   "outputs": [],
   "source": []
  },
  {
   "cell_type": "code",
   "execution_count": null,
   "id": "backed-leadership",
   "metadata": {},
   "outputs": [],
   "source": []
  },
  {
   "cell_type": "code",
   "execution_count": null,
   "id": "junior-middle",
   "metadata": {},
   "outputs": [],
   "source": []
  },
  {
   "cell_type": "code",
   "execution_count": null,
   "id": "greater-teaching",
   "metadata": {},
   "outputs": [],
   "source": []
  },
  {
   "cell_type": "code",
   "execution_count": null,
   "id": "welsh-charlotte",
   "metadata": {},
   "outputs": [],
   "source": []
  },
  {
   "cell_type": "code",
   "execution_count": null,
   "id": "muslim-traffic",
   "metadata": {},
   "outputs": [],
   "source": []
  },
  {
   "cell_type": "code",
   "execution_count": null,
   "id": "fleet-monster",
   "metadata": {},
   "outputs": [],
   "source": []
  },
  {
   "cell_type": "code",
   "execution_count": null,
   "id": "sporting-checklist",
   "metadata": {},
   "outputs": [],
   "source": []
  },
  {
   "cell_type": "code",
   "execution_count": null,
   "id": "alternate-sunrise",
   "metadata": {},
   "outputs": [],
   "source": []
  }
 ],
 "metadata": {
  "kernelspec": {
   "display_name": "Python 3",
   "language": "python",
   "name": "python3"
  },
  "language_info": {
   "codemirror_mode": {
    "name": "ipython",
    "version": 3
   },
   "file_extension": ".py",
   "mimetype": "text/x-python",
   "name": "python",
   "nbconvert_exporter": "python",
   "pygments_lexer": "ipython3",
   "version": "3.6.6"
  }
 },
 "nbformat": 4,
 "nbformat_minor": 5
}
